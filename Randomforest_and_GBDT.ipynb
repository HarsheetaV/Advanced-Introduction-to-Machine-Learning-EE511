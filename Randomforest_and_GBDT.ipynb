{
  "cells": [
    {
      "cell_type": "code",
      "source": [
        "gpu_info = !nvidia-smi\n",
        "gpu_info = '\\n'.join(gpu_info)\n",
        "if gpu_info.find('failed') >= 0:\n",
        "  print('Not connected to a GPU')\n",
        "else:\n",
        "  print(gpu_info)"
      ],
      "metadata": {
        "colab": {
          "base_uri": "https://localhost:8080/"
        },
        "id": "GsXB2r9HLFAx",
        "outputId": "8472c5dc-a5bb-4ff7-a6d2-6e407661276f"
      },
      "id": "GsXB2r9HLFAx",
      "execution_count": 1,
      "outputs": [
        {
          "output_type": "stream",
          "name": "stdout",
          "text": [
            "Thu Mar 16 20:38:32 2023       \n",
            "+-----------------------------------------------------------------------------+\n",
            "| NVIDIA-SMI 525.85.12    Driver Version: 525.85.12    CUDA Version: 12.0     |\n",
            "|-------------------------------+----------------------+----------------------+\n",
            "| GPU  Name        Persistence-M| Bus-Id        Disp.A | Volatile Uncorr. ECC |\n",
            "| Fan  Temp  Perf  Pwr:Usage/Cap|         Memory-Usage | GPU-Util  Compute M. |\n",
            "|                               |                      |               MIG M. |\n",
            "|===============================+======================+======================|\n",
            "|   0  Tesla T4            Off  | 00000000:00:04.0 Off |                    0 |\n",
            "| N/A   65C    P0    31W /  70W |      0MiB / 15360MiB |      0%      Default |\n",
            "|                               |                      |                  N/A |\n",
            "+-------------------------------+----------------------+----------------------+\n",
            "                                                                               \n",
            "+-----------------------------------------------------------------------------+\n",
            "| Processes:                                                                  |\n",
            "|  GPU   GI   CI        PID   Type   Process name                  GPU Memory |\n",
            "|        ID   ID                                                   Usage      |\n",
            "|=============================================================================|\n",
            "|  No running processes found                                                 |\n",
            "+-----------------------------------------------------------------------------+\n"
          ]
        }
      ]
    },
    {
      "cell_type": "code",
      "source": [
        "from google.colab import drive\n",
        "drive.mount(\"/content/drive\")"
      ],
      "metadata": {
        "colab": {
          "base_uri": "https://localhost:8080/"
        },
        "id": "xHBcMvIZLJpG",
        "outputId": "e90b5736-8fa8-4e49-e87d-ff7d02d42e16"
      },
      "id": "xHBcMvIZLJpG",
      "execution_count": 3,
      "outputs": [
        {
          "output_type": "stream",
          "name": "stdout",
          "text": [
            "Mounted at /content/drive\n"
          ]
        }
      ]
    },
    {
      "cell_type": "code",
      "execution_count": 5,
      "id": "bbc81aec",
      "metadata": {
        "id": "bbc81aec"
      },
      "outputs": [],
      "source": [
        "import argparse\n",
        "import os\n",
        "import random\n",
        "\n",
        "import numpy as np\n",
        "import numpy.matlib\n",
        "\n",
        "import matplotlib.pyplot as plt\n",
        "import pickle"
      ]
    },
    {
      "cell_type": "markdown",
      "id": "12540410",
      "metadata": {
        "id": "12540410"
      },
      "source": [
        "## Dataset overview\n",
        "\n",
        "In this problem we are building 15-way multi-class classifiers for a fruit classification task. The training and validation sets are stored in the .pkl files provided. See the hw5.pdf file we have provided for details.\n",
        "\n",
        "In each dataset, we provide the following:\n",
        "- 'images': the raw RGB images\n",
        "- 'feats': 15 dimensional condensed representations of each image (that were precomputed by using a pretrained vision transformer + PCA)\n",
        "- 'labels': an integer value between 0 and 14. The integer to class mapping is provided below in the variable 'idx_to_class'.\n",
        "\n",
        "We first create a simple python dictionary that maps integers to textual class labels that can be useful for debugging."
      ]
    },
    {
      "cell_type": "code",
      "execution_count": 6,
      "id": "132b41aa",
      "metadata": {
        "colab": {
          "base_uri": "https://localhost:8080/"
        },
        "id": "132b41aa",
        "outputId": "03b2ac12-c079-4829-a477-464a8d9ada19"
      },
      "outputs": [
        {
          "output_type": "stream",
          "name": "stdout",
          "text": [
            "{0: 'Apple', 1: 'Banana', 2: 'Carambola', 3: 'Guava', 4: 'Kiwi', 5: 'Mango', 6: 'Orange', 7: 'Peach', 8: 'Pear', 9: 'Persimmon', 10: 'Pitaya', 11: 'Plum', 12: 'Pomegranate', 13: 'Tomatoes', 14: 'Muskmelon'}\n"
          ]
        }
      ],
      "source": [
        "idx_to_class = {0: 'Apple', 1: 'Banana', 2: 'Carambola', 3: 'Guava', 4: 'Kiwi', 5: 'Mango', 6: 'Orange', 7: 'Peach', 8: 'Pear', 9: 'Persimmon', 10: 'Pitaya', 11: 'Plum', 12: 'Pomegranate', 13: 'Tomatoes', 14: 'Muskmelon'}\n",
        "print(idx_to_class)"
      ]
    },
    {
      "cell_type": "markdown",
      "id": "b8b4d929",
      "metadata": {
        "id": "b8b4d929"
      },
      "source": [
        "Next, we load the .pkl files that load as python dictionaries."
      ]
    },
    {
      "cell_type": "code",
      "source": [
        "!unzip /content/drive/MyDrive/datasets_ee511/datasets.zip"
      ],
      "metadata": {
        "colab": {
          "base_uri": "https://localhost:8080/"
        },
        "id": "C48w-YA7M40W",
        "outputId": "b0c56991-b87e-423b-9046-a3c115c7566c"
      },
      "id": "C48w-YA7M40W",
      "execution_count": null,
      "outputs": [
        {
          "output_type": "stream",
          "name": "stdout",
          "text": [
            "Archive:  /content/drive/MyDrive/datasets_ee511/datasets.zip\n",
            "   creating: datasets/\n",
            "  inflating: datasets/train.pkl      \n",
            "  inflating: datasets/val.pkl        \n"
          ]
        }
      ]
    },
    {
      "cell_type": "code",
      "execution_count": 7,
      "id": "ad2a9dfc",
      "metadata": {
        "id": "ad2a9dfc"
      },
      "outputs": [],
      "source": [
        "with open('/content/drive/MyDrive/datasets/datasets/train.pkl', 'rb') as f:\n",
        "    train_dataset = pickle.load(f)"
      ]
    },
    {
      "cell_type": "code",
      "execution_count": 8,
      "id": "50f990b4",
      "metadata": {
        "id": "50f990b4"
      },
      "outputs": [],
      "source": [
        "with open('/content/drive/MyDrive/datasets/datasets/val.pkl', 'rb') as f:\n",
        "    val_dataset = pickle.load(f)"
      ]
    },
    {
      "cell_type": "code",
      "execution_count": 9,
      "id": "884a562e",
      "metadata": {
        "colab": {
          "base_uri": "https://localhost:8080/",
          "height": 281
        },
        "id": "884a562e",
        "outputId": "d57968e3-4340-4300-b4b0-bf71fb1f5963"
      },
      "outputs": [
        {
          "output_type": "display_data",
          "data": {
            "text/plain": [
              "<Figure size 432x288 with 1 Axes>"
            ],
            "image/png": "[encoded data removed]"
          },
          "metadata": {
            "needs_background": "light"
          }
        }
      ],
      "source": [
        "# We can plot the images this way. This will be quite useful for debugging.\n",
        "plt.figure()\n",
        "plt.title('Example Image')\n",
        "plt.imshow(train_dataset['images'][0])\n",
        "plt.show()"
      ]
    },
    {
      "cell_type": "code",
      "execution_count": 10,
      "id": "ab956a98",
      "metadata": {
        "colab": {
          "base_uri": "https://localhost:8080/"
        },
        "id": "ab956a98",
        "outputId": "ca68bb4a-970a-456b-99f8-c1608d4d6879"
      },
      "outputs": [
        {
          "output_type": "stream",
          "name": "stdout",
          "text": [
            "Examples Features shape: (15,)\n"
          ]
        }
      ],
      "source": [
        "print(\"Examples Features shape:\", train_dataset['feats'][0].shape)"
      ]
    },
    {
      "cell_type": "code",
      "execution_count": 11,
      "id": "a55eeddc",
      "metadata": {
        "colab": {
          "base_uri": "https://localhost:8080/"
        },
        "id": "a55eeddc",
        "outputId": "614f4918-d790-4f92-a876-56d286d331e1"
      },
      "outputs": [
        {
          "output_type": "stream",
          "name": "stdout",
          "text": [
            "Example image label: Mango\n"
          ]
        }
      ],
      "source": [
        "print(\"Example image label:\", idx_to_class[train_dataset['labels'][0]])"
      ]
    },
    {
      "cell_type": "markdown",
      "id": "f1d5064b",
      "metadata": {
        "id": "f1d5064b"
      },
      "source": [
        "## Part 2(b): Random Forest/GBDT \n",
        "\n",
        "Implement a random forest or GBDT from scratch and report your classifier's accuracy on the training and validation sets. **You should use your implementation from prior homeworks and turn it in again with updates, if any.**"
      ]
    },
    {
      "cell_type": "code",
      "execution_count": 12,
      "id": "a2170e6b",
      "metadata": {
        "id": "a2170e6b"
      },
      "outputs": [],
      "source": [
        "# TODO: Implement a random forest/gbdt\n",
        "class TreeEnsemble:\n",
        "    def __init__():\n",
        "        pass\n",
        "    def fit(X, y):\n",
        "        pass\n",
        "    def predict(X):\n",
        "        pass"
      ]
    },
    {
      "cell_type": "code",
      "execution_count": 13,
      "id": "0756e79f",
      "metadata": {
        "id": "0756e79f"
      },
      "outputs": [],
      "source": [
        "import numpy as np\n",
        "#from numba import jit\n",
        "import pandas as pd\n",
        "import matplotlib.pyplot as plt\n",
        "import matplotlib\n",
        "from pdb import set_trace as bp"
      ]
    },
    {
      "cell_type": "code",
      "execution_count": 14,
      "id": "2be1f316",
      "metadata": {
        "id": "2be1f316"
      },
      "outputs": [],
      "source": [
        "#TODO: loss of least square regression and binary logistic regression\n",
        "'''\n",
        "    pred() takes GBDT/RF outputs, i.e., the \"score\", as its inputs, and returns predictions.\n",
        "    g() is the gradient/1st order derivative, which takes true values \"true\" and scores as input, and returns gradient.\n",
        "    h() is the heassian/2nd order derivative, which takes true values \"true\" and scores as input, and returns hessian.\n",
        "'''\n",
        "class leastsquare(object):\n",
        "    '''Loss class for mse. As for mse, pred function is pred=score.'''\n",
        "    def pred(self,score):\n",
        "        return score\n",
        "\n",
        "    def g(self,true,score):\n",
        "        return -2*(true - score)\n",
        "\n",
        "    def h(self,true,score):\n",
        "        return 2*np.ones_like(true)\n",
        "\n",
        "class logistic(object):\n",
        "    '''Loss class for log loss. As for log loss, pred function is logistic transformation.'''\n",
        "    def pred(self,score):\n",
        "        return np.round(1 / (1 + np.exp(-np.array(score))))\n",
        "\n",
        "    def g(self,true,score):\n",
        "        return -((true-1)*np.exp(score)+true) / (np.exp(score)+1)\n",
        "\n",
        "    def h(self,true,score):\n",
        "        return np.exp(score) / ((np.exp(score)+1)**2)"
      ]
    },
    {
      "cell_type": "code",
      "execution_count": 15,
      "id": "0ad53d5f",
      "metadata": {
        "id": "0ad53d5f"
      },
      "outputs": [],
      "source": [
        "# TODO: class of Random Forest\n",
        "class RF(object):\n",
        "    '''\n",
        "    Class of Random Forest\n",
        "    \n",
        "    Parameters:\n",
        "        n_threads: The number of threads used for fitting and predicting.\n",
        "        loss: Loss function for gradient boosting.\n",
        "            'mse' for regression task and 'log' for classfication task.\n",
        "            A child class of the loss class could be passed to implement customized loss.\n",
        "        max_depth: The maximum depth d_max of a tree.\n",
        "        min_sample_split: The minimum number of samples required to further split a node.\n",
        "        lamda: The regularization coefficient for leaf score, also known as lambda.\n",
        "        gamma: The regularization coefficient for number of tree nodes, also know as gamma.\n",
        "        rf: rf*m is the size of random subset of features, from which we select the best decision rule.\n",
        "        num_trees: Number of trees.\n",
        "    '''\n",
        "    def __init__(self,\n",
        "        n_threads = None, loss = 'mse', max_depth = 3, min_sample_split = 10, lamda = 1, gamma = 0, rf = 0.99, num_trees = 100, gradient_seed = 'zeros'):\n",
        "        \n",
        "        self.n_threads = n_threads\n",
        "        self.loss = loss\n",
        "        self.max_depth = max_depth\n",
        "        self.min_sample_split = min_sample_split\n",
        "        self.lamda = lamda\n",
        "        self.gamma = gamma\n",
        "        self.rf = rf\n",
        "        self.num_trees = num_trees\n",
        "        self.trees_in_forest = []\n",
        "        self.gradient_seed = gradient_seed\n",
        "        if loss == \"mse\": self.loss_fn = leastsquare()\n",
        "        else: self.loss_fn = logistic()\n",
        "\n",
        "    def fit(self, train, target):\n",
        "        # train is n x m 2d numpy array\n",
        "        # target is n-dim 1d array\n",
        "        #TODO\n",
        "        n,m = train.shape\n",
        "        for _ in range(self.num_trees):\n",
        "            indices = np.random.choice(np.arange(n), n, replace=True)\n",
        "            train_bt = train[indices, :]\n",
        "            target_bt = target[indices]\n",
        "            tree = Tree(n_threads=self.n_threads, max_depth=self.max_depth, min_sample_split=self.min_sample_split, rf=self.rf,\n",
        "                 lamda=self.lamda, gamma=self.gamma, )\n",
        "\n",
        "            if self.gradient_seed == 'zeros': y_0_hat = np.zeros((n,))\n",
        "            elif self.gradient_seed == 'mean': y_0_hat = np.ones((n,)) * target.mean()\n",
        "\n",
        "            gradients = self.loss_fn.g(target_bt, y_0_hat)\n",
        "            hessians = self.loss_fn.h(target_bt, y_0_hat)\n",
        "            tree.fit(train_bt, gradients, hessians)\n",
        "\n",
        "            self.trees_in_forest.append(tree)\n",
        "        return self\n",
        "\n",
        "    def predict(self, test):\n",
        "        #TODO\n",
        "        preds_from_trees = []\n",
        "        for tree in self.trees_in_forest:\n",
        "            score = tree.predict(test)\n",
        "            preds_from_trees.append(self.loss_fn.pred(score))\n",
        "        preds_from_trees = np.array(preds_from_trees)\n",
        "        if self.loss == 'mse':\n",
        "            return np.mean(np.array(preds_from_trees), axis=0)\n",
        "        else:\n",
        "            return (preds_from_trees.sum(axis=0) > (self.num_trees//2)).astype('int') # majority vote\n",
        "     #   return self.loss.pred(score)"
      ]
    },
    {
      "cell_type": "code",
      "execution_count": 16,
      "id": "350a2ecb",
      "metadata": {
        "id": "350a2ecb"
      },
      "outputs": [],
      "source": [
        "#TODO: class of GBDT\n",
        "class GBDT(object):\n",
        "    '''\n",
        "    Class of gradient boosting decision tree (GBDT)\n",
        "    \n",
        "    Parameters:\n",
        "        n_threads: The number of threads used for fitting and predicting.\n",
        "        loss: Loss function for gradient boosting.\n",
        "            'mse' for regression task and 'log' for classfication task.\n",
        "            A child class of the loss class could be passed to implement customized loss.\n",
        "        max_depth: The maximum depth D_max of a tree.\n",
        "        min_sample_split: The minimum number of samples required to further split a node.\n",
        "        lamda: The regularization coefficient for leaf score, also known as lambda.\n",
        "        gamma: The regularization coefficient for number of tree nodes, also know as gamma.\n",
        "        learning_rate: The learning rate eta of GBDT.\n",
        "        num_trees: Number of trees.\n",
        "    '''\n",
        "    def __init__(self,\n",
        "        n_threads = None, loss = 'mse',\n",
        "        max_depth = 3, min_sample_split = 10, \n",
        "        lamda = 1, gamma = 0,\n",
        "        learning_rate = 0.1, num_trees = 100):\n",
        "        \n",
        "        self.n_threads = n_threads\n",
        "        self.loss = loss\n",
        "        self.max_depth = max_depth\n",
        "        self.min_sample_split = min_sample_split\n",
        "        self.lamda = lamda\n",
        "        self.gamma = gamma\n",
        "        self.learning_rate = learning_rate\n",
        "        self.num_trees = num_trees\n",
        "        self.trees = []\n",
        "        if loss == \"mse\": self.loss_fn = leastsquare()\n",
        "        else: self.loss_fn = logistic()\n",
        "\n",
        "    def fit(self, train, target, bootstrap = True):\n",
        "        # train is n x m 2d numpy array\n",
        "        # target is n-dim 1d array\n",
        "        #TODO\n",
        "        n,m = train.shape\n",
        "        self.y_train_mean = target.mean()\n",
        "        y_hat = np.ones(n) * target.mean()\n",
        "        for _ in range(self.num_trees):\n",
        "\n",
        "            indices = np.random.choice(np.arange(n), n, replace=True)\n",
        "            train_bt = train[indices, :]\n",
        "            target_bt = target[indices]\n",
        "            tree = Tree(n_threads=self.n_threads, max_depth=self.max_depth, min_sample_split=self.min_sample_split, rf=1,\n",
        "                 lamda=self.lamda, gamma=self.gamma, )\n",
        "\n",
        "            gradients = self.loss_fn.g(target_bt, y_hat)\n",
        "            hessians = self.loss_fn.h(target_bt, y_hat)\n",
        "            tree.fit(train_bt, gradients, hessians)\n",
        "            self.trees.append(tree)\n",
        "            y_hat = y_hat + self.learning_rate * self.predict(train)\n",
        "        return self\n",
        "\n",
        "    def predict(self, test):\n",
        "        #TODO\n",
        "        n,m = test.shape\n",
        "        preds = np.zeros((n, self.num_trees))\n",
        "        y_hat_0 = np.ones(n) * self.y_train_mean\n",
        "        preds[:,0] = y_hat_0 + self.learning_rate * np.array(self.trees[0].predict(test))\n",
        "        for tree_idx in np.arange(1, len(self.trees)):\n",
        "            tree = self.trees[tree_idx]\n",
        "            score = np.array(tree.predict(test))\n",
        "            preds[:, tree_idx] = preds[:, tree_idx-1] + self.learning_rate * score\n",
        "\n",
        "        return self.loss_fn.pred(preds.mean(axis=1))"
      ]
    },
    {
      "cell_type": "code",
      "execution_count": 17,
      "id": "7ce788c9",
      "metadata": {
        "id": "7ce788c9"
      },
      "outputs": [],
      "source": [
        "# TODO: class of a node on a tree\n",
        "class TreeNode(object):\n",
        "    '''\n",
        "    Data structure that are used for storing a node on a tree.\n",
        "    \n",
        "    A tree is presented by a set of nested TreeNodes,\n",
        "    with one TreeNode pointing two child TreeNodes,\n",
        "    until a tree leaf is reached.\n",
        "    \n",
        "    A node on a tree can be either a leaf node or a non-leaf node.\n",
        "    '''\n",
        "    \n",
        "    #TODO\n",
        "    def __init__(self, split_feature=None, split_threshold=None, left_child=None, right_child=None, gain=None, weight= None):\n",
        "        self.split_feature = split_feature\n",
        "        self.split_threshold = split_threshold\n",
        "        self.left_child = left_child\n",
        "        self.right_child = right_child\n",
        "        self.gain = gain\n",
        "        self.weight = weight \n",
        "        "
      ]
    },
    {
      "cell_type": "code",
      "execution_count": 18,
      "id": "4f8b9806",
      "metadata": {
        "id": "4f8b9806"
      },
      "outputs": [],
      "source": [
        "# TODO: class of single tree\n",
        "class Tree(object):\n",
        "    '''\n",
        "    Class of a single decision tree in GBDT\n",
        "\n",
        "    Parameters:\n",
        "        n_threads: The number of threads used for fitting and predicting.\n",
        "        max_depth: The maximum depth of the tree.\n",
        "        min_sample_split: The minimum number of samples required to further split a node.\n",
        "        lamda: The regularization coefficient for leaf prediction, also known as lambda.\n",
        "        gamma: The regularization coefficient for number of TreeNode, also know as gamma.\n",
        "        rf: rf*m is the size of random subset of features, from which we select the best decision rule,\n",
        "            rf = 0 means we are training a GBDT.\n",
        "    '''\n",
        "    \n",
        "    def __init__(self, n_threads = None, \n",
        "                 max_depth = 3, min_sample_split = 10,\n",
        "                 lamda = 1, gamma = 0, rf = 0):\n",
        "        self.n_threads = n_threads\n",
        "        self.max_depth = max_depth\n",
        "        self.min_sample_split = min_sample_split\n",
        "        self.lamda = lamda\n",
        "        self.gamma = gamma\n",
        "        self.rf = 0\n",
        "        self.int_member = 0\n",
        "\n",
        "    def fit(self, train, g, h):\n",
        "        '''\n",
        "        train is the training data matrix, and must be numpy array (an n_train x m matrix).\n",
        "        g and h are gradient and hessian respectively.\n",
        "        '''\n",
        "        #TODO\n",
        "        #self.root = self.construct_tree(train, g, h)\n",
        "        self.root = self.construct_tree(train, g, h)\n",
        "\n",
        "        #return self\n",
        "\n",
        "    def predict(self,test):\n",
        "        '''\n",
        "        test is the test data matrix, and must be numpy arrays (an n_test x m matrix).\n",
        "        Return predictions (scores) as an array.\n",
        "        '''\n",
        "        #TODO\n",
        "        preds = [self.make_prediction(x, self.root) for x in test]\n",
        "        return preds\n",
        "    def make_prediction(self, x, tree):\n",
        "        ''' function to predict a single data point '''\n",
        "        if tree.weight != None: return tree.weight\n",
        "        feature_val = x[tree.split_feature]\n",
        "        if feature_val <= tree.split_threshold:\n",
        "            return self.make_prediction(x, tree.left_child)\n",
        "        else:\n",
        "            return self.make_prediction(x, tree.right_child) \n",
        "\n",
        "    def construct_tree(self, train, g, h, curr_depth = 0):\n",
        "        '''\n",
        "        Tree construction, which is recursively used to grow a tree.\n",
        "        First we should check if we should stop further splitting.\n",
        "        \n",
        "        The stopping conditions include:\n",
        "            1. tree reaches max_depth $d_{max}$\n",
        "            2. The number of sample points at current node is less than min_sample_split, i.e., $n_{min}$\n",
        "            3. gain <= 0\n",
        "        '''\n",
        "        #TODO\n",
        "        n, m = train.shape\n",
        "        if n >= self.min_sample_split and self.max_depth >= curr_depth:\n",
        "            best_feature_idx, best_threshold, gain, dataset_left, dataset_right, g_l, g_r, h_l, h_r = self.find_best_decision_rule(train, g, h)\n",
        "            if gain > 0:\n",
        "                left_subtree = self.construct_tree(dataset_left, g_l, h_l, curr_depth+1)\n",
        "                right_subtree = self.construct_tree(dataset_right, g_r, h_r, curr_depth+1)\n",
        "                return TreeNode(split_feature = best_feature_idx, split_threshold = best_threshold,\n",
        "                                left_child = left_subtree, right_child = right_subtree, gain = gain)\n",
        "\n",
        "        # if we are at leaf\n",
        "        weight = -np.sum(g) / (np.sum(h) + self.lamda)\n",
        "        return TreeNode(weight=weight)\n",
        "        \n",
        "        \n",
        "    def find_best_decision_rule(self, train, g, h):\n",
        "        '''\n",
        "        Return the best decision rule [feature, treshold], i.e., $(p_j, \\tau_j)$ on a node j, \n",
        "        train is the training data assigned to node j\n",
        "        g and h are the corresponding 1st and 2nd derivatives for each data point in train\n",
        "        g and h should be vectors of the same length as the number of data points in train\n",
        "        \n",
        "        for each feature, we find the best threshold by find_threshold(),\n",
        "        a [threshold, best_gain] list is returned for each feature.\n",
        "        Then we select the feature with the largest best_gain,\n",
        "        and return the best decision rule [feature, treshold] together with its gain.\n",
        "        '''\n",
        "        #TODO\n",
        "        n, m = train.shape\n",
        "        if self.rf:\n",
        "            feat_indices = np.random.choice(np.arange(m), size=round(self.rf*m))\n",
        "            train = train[:,feat_indices]\n",
        "\n",
        "        n, m = train.shape\n",
        "        best_gain = -float('inf')\n",
        "        best_threshold, best_left, best_right, best_feat_idx = None, None, None, None\n",
        "        best_g_l, best_g_r, best_h_l, best_h_r = None, None, None, None\n",
        "        for feat_idx in range(m):\n",
        "            feature_values = train[:,feat_idx]\n",
        "            for cand_thresh in np.unique(feature_values):\n",
        "                dataset_left, dataset_right, g_l, g_r, h_l, h_r = self.split(train, g, h, feat_idx, cand_thresh)\n",
        "                if len(dataset_left) > 0 and len(dataset_right) > 0:\n",
        "                    G_L, H_L = np.sum(g_l), np.sum(h_l)\n",
        "                    G_R, H_R = np.sum(g_r), np.sum(h_r)\n",
        "                    term1 = G_L**2/(H_L + self.lamda)\n",
        "                    term2 = G_R**2/(H_R + self.lamda)\n",
        "                    term3 = (G_L + G_R)**2/ (H_L + H_R + self.lamda)\n",
        "                    gain = 0.5*(term1 + term2 - term3) - self.gamma\n",
        "                    if gain > best_gain:\n",
        "                        best_gain = gain\n",
        "                        best_threshold = cand_thresh\n",
        "                        best_feat_idx = feat_idx\n",
        "                        best_left, best_right = dataset_left, dataset_right\n",
        "                        best_g_l, best_g_r, best_h_l, best_h_r = g_l, g_r, h_l, h_r\n",
        "\n",
        "        return best_feat_idx, best_threshold, best_gain, best_left, best_right, best_g_l, best_g_r, best_h_l, best_h_r\n",
        "        #return feature, threshold, gain\n",
        "    \n",
        "    #def find_threshold(self, g, h, train):\n",
        "     #   '''\n",
        "      #  Given a particular feature $p_j$,\n",
        "       # return the best split threshold $\\tau_j$ together with the gain that is achieved.\n",
        "       # '''\n",
        "        #TODO               \n",
        "        #return [threshold, best_gain]\n",
        "    def print_tree(self, tree=None, indent=\" \"):\n",
        "        ''' function to print the tree '''\n",
        "        if not tree: tree = self.root\n",
        "        if tree.weight is not None:\n",
        "            print(tree.weight)\n",
        "        else:\n",
        "            print(\"X_\"+str(tree.split_feature), \"<=\", tree.split_threshold, \"?\", tree.gain)\n",
        "            print(\"%sleft:\" % (indent), end=\"\")\n",
        "            self.print_tree(tree.left_child, indent + indent)\n",
        "            print(\"%sright:\" % (indent), end=\"\")\n",
        "            self.print_tree(tree.right_child, indent + indent)\n",
        "\n",
        "    def split(self, train, g, h, best_feature_idx, best_threshold):\n",
        "        n = train.shape[0]\n",
        "        left_mask = np.arange(n)[train[:,best_feature_idx] <= best_threshold]\n",
        "        right_mask = np.arange(n)[train[:,best_feature_idx] > best_threshold]\n",
        "        return train[left_mask], train[right_mask], g[left_mask], g[right_mask], h[left_mask], h[right_mask]        "
      ]
    },
    {
      "cell_type": "code",
      "execution_count": 19,
      "id": "288fd782",
      "metadata": {
        "id": "288fd782"
      },
      "outputs": [],
      "source": [
        "# TODO: Evaluation functions (you can use code from previous homeworks)\n",
        "\n",
        "# RMSE\n",
        "def root_mean_square_error(pred, y):\n",
        "    #TODO\n",
        "    return np.sqrt(np.mean((pred-y)**2))\n",
        "\n",
        "# precision\n",
        "def accuracy(pred, y):\n",
        "    #TODO\n",
        "    return (pred == y).sum() / len(y)"
      ]
    },
    {
      "cell_type": "code",
      "execution_count": 20,
      "id": "e9c7f5e4",
      "metadata": {
        "id": "e9c7f5e4"
      },
      "outputs": [],
      "source": [
        "#this was used in previous homework, but here xtrain and xval is different for classification\n",
        "\n",
        "# TODO: GBDT classification on breast cancer dataset\n",
        "\n",
        "# load data\n",
        "#from sklearn import datasets\n",
        "#breast_cancer = datasets.load_breast_cancer()\n",
        "#X = breast_cancer.data\n",
        "#y = breast_cancer.target\n",
        "\n",
        "# train-test split\n",
        "#from sklearn.model_selection import train_test_split\n",
        "#X_train, X_test, y_train, y_test = train_test_split(X, y, test_size=0.3, random_state=8)"
      ]
    },
    {
      "cell_type": "code",
      "source": [
        "X_train = np.array(train_dataset['feats'])\n",
        "y_train = np.array(train_dataset['labels'])\n",
        "\n",
        "X_val = np.array(val_dataset['feats'])\n",
        "y_val = np.array(val_dataset['labels'])"
      ],
      "metadata": {
        "id": "KOq5SxI9PEfg"
      },
      "id": "KOq5SxI9PEfg",
      "execution_count": 21,
      "outputs": []
    },
    {
      "cell_type": "code",
      "source": [
        "rf = RF(loss='log', gradient_seed=\"zeros\", max_depth = 20, num_trees = 20)\n",
        "rf.fit(X_train, y_train)\n",
        "train_pred = rf.predict(X_train)\n",
        "train_acc_RF_zeros = accuracy(train_pred, y_train)\n",
        "print(\"Train accuracy using Random Forest, zeros gradient-seed: \", train_acc_RF_zeros)\n",
        "val_pred = rf.predict(X_val)\n",
        "val_acc_RF_zeros = accuracy(val_pred, y_val)\n",
        "print(\"Test accuracy using Random Forest, zeros gradient-seed: \", val_acc_RF_zeros)"
      ],
      "metadata": {
        "colab": {
          "base_uri": "https://localhost:8080/"
        },
        "id": "J9FhVVovYuek",
        "outputId": "f62e23a0-857d-40f2-a2de-5d870cfebff2"
      },
      "id": "J9FhVVovYuek",
      "execution_count": 24,
      "outputs": [
        {
          "output_type": "stream",
          "name": "stdout",
          "text": [
            "Train accuracy using Random Forest, zeros gradient-seed:  0.19309437019036046\n",
            "Test accuracy using Random Forest, zeros gradient-seed:  0.1781663516068053\n"
          ]
        }
      ]
    },
    {
      "cell_type": "code",
      "execution_count": 26,
      "id": "fb66974f",
      "metadata": {
        "id": "fb66974f",
        "colab": {
          "base_uri": "https://localhost:8080/"
        },
        "outputId": "ce5bea1e-c46c-4869-a6f8-1084b1ad0224"
      },
      "outputs": [
        {
          "output_type": "stream",
          "name": "stdout",
          "text": [
            "Train accuracy using Random Forest, zeros gradient-seed:  0.19603078169299312\n",
            "Test accuracy using Random Forest, zeros gradient-seed:  0.17485822306238186\n"
          ]
        }
      ],
      "source": [
        "rf = RF(loss='log', gradient_seed=\"zeros\", max_depth = 30, num_trees = 30)\n",
        "rf.fit(X_train, y_train)\n",
        "train_pred = rf.predict(X_train)\n",
        "train_acc_RF_zeros = accuracy(train_pred, y_train)\n",
        "print(\"Train accuracy using Random Forest, zeros gradient-seed: \", train_acc_RF_zeros)\n",
        "val_pred = rf.predict(X_val)\n",
        "val_acc_RF_zeros = accuracy(val_pred, y_val)\n",
        "print(\"Test accuracy using Random Forest, zeros gradient-seed: \", val_acc_RF_zeros)"
      ]
    },
    {
      "cell_type": "code",
      "execution_count": null,
      "metadata": {
        "colab": {
          "base_uri": "https://localhost:8080/"
        },
        "outputId": "6944fa32-d345-4046-85e5-af03506a06ed",
        "id": "UD3q5f5t3ggc"
      },
      "outputs": [
        {
          "output_type": "stream",
          "name": "stdout",
          "text": [
            "Train accuracy using GBDT:  0.09953422438234102\n",
            "Test accuracy using GBDT:  0.09215500945179585\n"
          ]
        }
      ],
      "source": [
        "gbdt = GBDT(num_trees=20, gamma=1, min_sample_split=31, max_depth=20, loss=\"log\")\n",
        "gbdt.fit(X_train, y_train)\n",
        "train_pred = gbdt.predict(X_train)\n",
        "train_acc_GBDT = accuracy(train_pred, y_train)\n",
        "print(\"Train accuracy using GBDT: \", train_acc_GBDT)\n",
        "val_pred = gbdt.predict(X_val)\n",
        "val_acc_GBDT = accuracy(val_pred, y_val)\n",
        "print(\"Test accuracy using GBDT: \", val_acc_GBDT)"
      ],
      "id": "UD3q5f5t3ggc"
    },
    {
      "cell_type": "code",
      "execution_count": null,
      "id": "575aae0a",
      "metadata": {
        "id": "575aae0a"
      },
      "outputs": [],
      "source": []
    },
    {
      "cell_type": "code",
      "execution_count": null,
      "id": "84a6a566",
      "metadata": {
        "id": "84a6a566"
      },
      "outputs": [],
      "source": [
        "# TODO: Report accuracy on training and validation sets"
      ]
    },
    {
      "cell_type": "markdown",
      "id": "544ffb24",
      "metadata": {
        "id": "544ffb24"
      },
      "source": [
        "Part 2(f): Bakeoff: Choose the best Classifier\n",
        "For this section, you are free to use a classifier of your choice (you are allowed to use any libraries of your choice). You are also free to use the training and validation sets in any way you choose i.e. you can merge them and perform k-fold cross validation.\n",
        "\n",
        "To evaluate your classifier, we will on March 15th provide you with a pickle file ('test.pkl') that will be in the same format as the 'train.pkl' and 'val.pkl' but will not contain the labels. You will need to generate predictions for each of the inputs we provide in 'test.pkl' in a text file.\n",
        "\n",
        "For your submission, you will need to provide us with a test_predictions.txt file containing the class predictions of your classifier. We will compute the accuracy of the predictions you provide for your evaluation."
      ]
    },
    {
      "cell_type": "code",
      "execution_count": null,
      "id": "c70d568d",
      "metadata": {
        "id": "c70d568d"
      },
      "outputs": [],
      "source": [
        "pred = []\n",
        "\n",
        "# TODO: Train a classifier and generate predictions on the test set and put your predictions in pred.\n",
        "# ...\n",
        "\n",
        "# Make sure that pred contains a 1-dimensional integer array of class labels for the test set and make sure that\n",
        "# every integer is in the range 0 through 14. If you have an entry in this array outside of the integer\n",
        "# range of 0 through 14, it will be assumed to be an error. Also, if your array is not the length of the test\n",
        "# set that will be assumed to be an error. Specifically, suppose n_mine is the length of the array of integers\n",
        "# you turn in. If the test set has n_test images (meaning \n",
        "# it is an n_test X m matrix), then if your array is less than n_test long (so n_mine < n_test, then any missing \n",
        "# images will be assumed to be an error, so there will be n_test - n_mine errors. If your array is longer than \n",
        "# n_test images long, so that n_mine > n_test, then we will take the final n_mine - n_test images, whatever\n",
        "# your predictions are for those images, and assume that those n_mine - n_test images are in error. Bottom line:\n",
        "# make sure your array is exactly the right length, meaning you should have n_mine == n_test. Meaning,\n",
        "# the array pred should be a one-dimensional integer array with integers in the 0-14 range\n",
        "# of length n_mine. You can make sure that pred is of integer type by doing `pred = pred.astype(np.int32)` but\n",
        "# after you do this, make sure to examine the result to ensure that they are integers in the right range.\n",
        "#\n",
        "# Note that the saved text file should have one prediction per ASCII line (this can be done by ensuring that pred \n",
        "# is of shape (n_test,) and then simply using np.savetxt).\n",
        "np.savetxt('test_predictions.txt', pred)\n"
      ]
    },
    {
      "cell_type": "code",
      "execution_count": null,
      "id": "a2ddca75",
      "metadata": {
        "id": "a2ddca75"
      },
      "outputs": [],
      "source": []
    }
  ],
  "metadata": {
    "kernelspec": {
      "display_name": "Python 3 (ipykernel)",
      "language": "python",
      "name": "python3"
    },
    "language_info": {
      "codemirror_mode": {
        "name": "ipython",
        "version": 3
      },
      "file_extension": ".py",
      "mimetype": "text/x-python",
      "name": "python",
      "nbconvert_exporter": "python",
      "pygments_lexer": "ipython3",
      "version": "3.9.13"
    },
    "colab": {
      "provenance": []
    },
    "accelerator": "GPU",
    "gpuClass": "standard"
  },
  "nbformat": 4,
  "nbformat_minor": 5
}